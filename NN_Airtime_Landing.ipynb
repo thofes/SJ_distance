{
  "nbformat": 4,
  "nbformat_minor": 0,
  "metadata": {
    "colab": {
      "provenance": [],
      "authorship_tag": "ABX9TyPR7BPDbrIhn+O7rCSmgrDG",
      "include_colab_link": true
    },
    "kernelspec": {
      "name": "python3",
      "display_name": "Python 3"
    },
    "language_info": {
      "name": "python"
    }
  },
  "cells": [
    {
      "cell_type": "markdown",
      "metadata": {
        "id": "view-in-github",
        "colab_type": "text"
      },
      "source": [
        "<a href=\"https://colab.research.google.com/github/thofes/SJ_distance/blob/main/NN_Airtime_Landing.ipynb\" target=\"_parent\"><img src=\"https://colab.research.google.com/assets/colab-badge.svg\" alt=\"Open In Colab\"/></a>"
      ]
    },
    {
      "cell_type": "code",
      "execution_count": 1,
      "metadata": {
        "colab": {
          "base_uri": "https://localhost:8080/"
        },
        "id": "MBHEFdVvn1h5",
        "outputId": "ed45f9fc-8394-41b3-b3af-47e2d2977b41"
      },
      "outputs": [
        {
          "output_type": "stream",
          "name": "stdout",
          "text": [
            "Mounted at /content.gdrive\n"
          ]
        }
      ],
      "source": [
        "#Connect GDrive\n",
        "from google.colab import drive\n",
        "drive.mount('/content.gdrive')"
      ]
    },
    {
      "cell_type": "code",
      "source": [
        "import json \n",
        "import numpy as np\n",
        "\n",
        "\n",
        "\n",
        "with open('/content.gdrive/MyDrive/Try_3/dataset.json', \"r\") as fp:\n",
        "    data = json.load(fp)\n",
        "\n",
        "X = np.array(data[\"keypoints\"])\n",
        "y = np.array(data[\"labels\"])\n",
        "\n",
        "print(X.shape)\n",
        "print(y.shape)"
      ],
      "metadata": {
        "colab": {
          "base_uri": "https://localhost:8080/"
        },
        "id": "-j37tm2soIo7",
        "outputId": "55241961-8161-481f-fea4-fb9c81612660"
      },
      "execution_count": 8,
      "outputs": [
        {
          "output_type": "stream",
          "name": "stdout",
          "text": [
            "(84, 75)\n",
            "(84,)\n"
          ]
        }
      ]
    },
    {
      "cell_type": "code",
      "source": [
        "#Creating binary classification model 1575\n",
        "!pip install -U tensorflow-addons\n",
        "\n",
        "import json\n",
        "import numpy as np\n",
        "import tensorflow as tf\n",
        "from tensorflow import keras\n",
        "from tensorflow.keras.models import Sequential\n",
        "from tensorflow.keras.callbacks import EarlyStopping\n",
        "from tensorflow.keras.layers import Activation, Dense, Conv1D, Dropout, MaxPooling1D, LSTM, Conv2D, Flatten,GlobalMaxPooling1D, Reshape\n",
        "from tensorflow.keras.optimizers import Adam\n",
        "from tensorflow.keras.metrics import categorical_crossentropy, binary_crossentropy\n",
        "from sklearn.utils import shuffle\n",
        "import tensorflow_addons as tfa\n",
        "\n",
        "\n",
        "\n",
        "\n",
        "\n",
        "def Ranger(sync_period=6,\n",
        "           slow_step_size=0.5,\n",
        "           learning_rate=0.001,\n",
        "           beta_1=0.9,\n",
        "           beta_2=0.999,\n",
        "           epsilon=1e-7,\n",
        "           weight_decay=0.,\n",
        "           amsgrad=False,\n",
        "           sma_threshold=5.0,\n",
        "           total_steps=0,\n",
        "           warmup_proportion=0.1,\n",
        "           min_lr=0.,\n",
        "           name=\"Ranger\"):\n",
        "    inner = tfa.optimizers.RectifiedAdam(learning_rate, beta_1, beta_2, epsilon, weight_decay, amsgrad, sma_threshold, total_steps, warmup_proportion, min_lr, name)\n",
        "    optim = tfa.optimizers.Lookahead(inner, sync_period, slow_step_size, name)\n",
        "    return optim\n",
        "\n",
        "\n",
        "\n",
        "model = Sequential([\n",
        "    \n",
        "    Dense(units=1200, input_shape=(75,1), activation='relu'),                  \n",
        "    Conv1D(filters=32, kernel_size=3, strides=3, padding='same',\n",
        "           activation='relu'),\n",
        "    Dropout(0.15),\n",
        "    Conv1D(filters=64, kernel_size=3, strides=1, padding='same', \n",
        "           activation='relu'),\n",
        "    Dropout(0.15),\n",
        "    Flatten(),\n",
        "    Dense(units=1, activation='sigmoid') \n",
        "])\n",
        "\n",
        "save_callback = EarlyStopping(\n",
        "    monitor=\"val_accuracy\",\n",
        "    min_delta=0,\n",
        "    patience=50,\n",
        "    verbose=1,\n",
        "    mode=\"auto\",\n",
        "    baseline=None,\n",
        "    restore_best_weights=True,\n",
        ")\n",
        "def scheduler(epoche, lr):\n",
        "      if epoche < 2:\n",
        "          return lr\n",
        "      else:\n",
        "          return lr*0.97\n",
        "lr_scheduler = keras.callbacks.LearningRateScheduler(scheduler, verbose=1)\n",
        "#model.compile(optimizer=Adam(learning_rate=0.001), loss='binary_crossentropy', metrics=['accuracy'])\n",
        "model.compile(optimizer=Ranger(), loss='binary_crossentropy', metrics=['accuracy'])\n",
        "\n",
        "\n",
        "model.summary()"
      ],
      "metadata": {
        "colab": {
          "base_uri": "https://localhost:8080/"
        },
        "id": "m9XNh6UkpD6X",
        "outputId": "cbf12098-22f8-430d-a463-a57907167a97"
      },
      "execution_count": 13,
      "outputs": [
        {
          "output_type": "stream",
          "name": "stdout",
          "text": [
            "Looking in indexes: https://pypi.org/simple, https://us-python.pkg.dev/colab-wheels/public/simple/\n",
            "Requirement already satisfied: tensorflow-addons in /usr/local/lib/python3.7/dist-packages (0.18.0)\n",
            "Requirement already satisfied: packaging in /usr/local/lib/python3.7/dist-packages (from tensorflow-addons) (21.3)\n",
            "Requirement already satisfied: typeguard>=2.7 in /usr/local/lib/python3.7/dist-packages (from tensorflow-addons) (2.7.1)\n",
            "Requirement already satisfied: pyparsing!=3.0.5,>=2.0.2 in /usr/local/lib/python3.7/dist-packages (from packaging->tensorflow-addons) (3.0.9)\n",
            "Model: \"sequential_5\"\n",
            "_________________________________________________________________\n",
            " Layer (type)                Output Shape              Param #   \n",
            "=================================================================\n",
            " dense_10 (Dense)            (None, 75, 1200)          2400      \n",
            "                                                                 \n",
            " conv1d_10 (Conv1D)          (None, 25, 32)            115232    \n",
            "                                                                 \n",
            " dropout_12 (Dropout)        (None, 25, 32)            0         \n",
            "                                                                 \n",
            " conv1d_11 (Conv1D)          (None, 25, 64)            6208      \n",
            "                                                                 \n",
            " dropout_13 (Dropout)        (None, 25, 64)            0         \n",
            "                                                                 \n",
            " flatten (Flatten)           (None, 1600)              0         \n",
            "                                                                 \n",
            " dense_11 (Dense)            (None, 1)                 1601      \n",
            "                                                                 \n",
            "=================================================================\n",
            "Total params: 125,441\n",
            "Trainable params: 125,441\n",
            "Non-trainable params: 0\n",
            "_________________________________________________________________\n"
          ]
        }
      ]
    },
    {
      "cell_type": "code",
      "source": [
        "history = model.fit(x=X, y=y, batch_size=40, validation_split = 0.1, epochs=1000, shuffle=True, verbose = 2, callbacks=[save_callback])"
      ],
      "metadata": {
        "colab": {
          "base_uri": "https://localhost:8080/"
        },
        "id": "xB-hWsKupz-A",
        "outputId": "de2639e3-dbdd-4c7b-d37b-fa615af77064"
      },
      "execution_count": 14,
      "outputs": [
        {
          "output_type": "stream",
          "name": "stdout",
          "text": [
            "Epoch 1/1000\n",
            "2/2 - 4s - loss: 0.6927 - accuracy: 0.5600 - val_loss: 0.6914 - val_accuracy: 0.7778 - 4s/epoch - 2s/step\n",
            "Epoch 2/1000\n",
            "2/2 - 0s - loss: 0.6927 - accuracy: 0.5200 - val_loss: 0.6915 - val_accuracy: 0.7778 - 152ms/epoch - 76ms/step\n",
            "Epoch 3/1000\n",
            "2/2 - 0s - loss: 0.6917 - accuracy: 0.6800 - val_loss: 0.6917 - val_accuracy: 0.7778 - 145ms/epoch - 73ms/step\n",
            "Epoch 4/1000\n",
            "2/2 - 0s - loss: 0.6927 - accuracy: 0.5733 - val_loss: 0.6930 - val_accuracy: 0.5556 - 135ms/epoch - 67ms/step\n",
            "Epoch 5/1000\n",
            "2/2 - 0s - loss: 0.6928 - accuracy: 0.5333 - val_loss: 0.6950 - val_accuracy: 0.0000e+00 - 144ms/epoch - 72ms/step\n",
            "Epoch 6/1000\n",
            "2/2 - 0s - loss: 0.6915 - accuracy: 0.6000 - val_loss: 0.6944 - val_accuracy: 0.0000e+00 - 137ms/epoch - 69ms/step\n",
            "Epoch 7/1000\n",
            "2/2 - 0s - loss: 0.6921 - accuracy: 0.5333 - val_loss: 0.6975 - val_accuracy: 0.0000e+00 - 160ms/epoch - 80ms/step\n",
            "Epoch 8/1000\n",
            "2/2 - 0s - loss: 0.6916 - accuracy: 0.5600 - val_loss: 0.6998 - val_accuracy: 0.0000e+00 - 150ms/epoch - 75ms/step\n",
            "Epoch 9/1000\n",
            "2/2 - 0s - loss: 0.6904 - accuracy: 0.5600 - val_loss: 0.6985 - val_accuracy: 0.0000e+00 - 177ms/epoch - 88ms/step\n",
            "Epoch 10/1000\n",
            "2/2 - 0s - loss: 0.6917 - accuracy: 0.5333 - val_loss: 0.7010 - val_accuracy: 0.0000e+00 - 172ms/epoch - 86ms/step\n",
            "Epoch 11/1000\n",
            "2/2 - 0s - loss: 0.6915 - accuracy: 0.5467 - val_loss: 0.7030 - val_accuracy: 0.0000e+00 - 172ms/epoch - 86ms/step\n",
            "Epoch 12/1000\n",
            "2/2 - 0s - loss: 0.6903 - accuracy: 0.5333 - val_loss: 0.7017 - val_accuracy: 0.0000e+00 - 169ms/epoch - 84ms/step\n",
            "Epoch 13/1000\n",
            "2/2 - 0s - loss: 0.6915 - accuracy: 0.5200 - val_loss: 0.7033 - val_accuracy: 0.0000e+00 - 185ms/epoch - 92ms/step\n",
            "Epoch 14/1000\n",
            "2/2 - 0s - loss: 0.6904 - accuracy: 0.6000 - val_loss: 0.7049 - val_accuracy: 0.0000e+00 - 170ms/epoch - 85ms/step\n",
            "Epoch 15/1000\n",
            "2/2 - 0s - loss: 0.6913 - accuracy: 0.5200 - val_loss: 0.7046 - val_accuracy: 0.0000e+00 - 175ms/epoch - 87ms/step\n",
            "Epoch 16/1000\n",
            "2/2 - 0s - loss: 0.6906 - accuracy: 0.5333 - val_loss: 0.7063 - val_accuracy: 0.0000e+00 - 166ms/epoch - 83ms/step\n",
            "Epoch 17/1000\n",
            "2/2 - 0s - loss: 0.6902 - accuracy: 0.5333 - val_loss: 0.7085 - val_accuracy: 0.0000e+00 - 169ms/epoch - 84ms/step\n",
            "Epoch 18/1000\n",
            "2/2 - 0s - loss: 0.6900 - accuracy: 0.5333 - val_loss: 0.7076 - val_accuracy: 0.0000e+00 - 173ms/epoch - 87ms/step\n",
            "Epoch 19/1000\n",
            "2/2 - 0s - loss: 0.6913 - accuracy: 0.5333 - val_loss: 0.7103 - val_accuracy: 0.0000e+00 - 177ms/epoch - 89ms/step\n",
            "Epoch 20/1000\n",
            "2/2 - 0s - loss: 0.6894 - accuracy: 0.5200 - val_loss: 0.7137 - val_accuracy: 0.0000e+00 - 165ms/epoch - 83ms/step\n",
            "Epoch 21/1000\n",
            "2/2 - 0s - loss: 0.6882 - accuracy: 0.5467 - val_loss: 0.7119 - val_accuracy: 0.0000e+00 - 169ms/epoch - 84ms/step\n",
            "Epoch 22/1000\n",
            "2/2 - 0s - loss: 0.6893 - accuracy: 0.5333 - val_loss: 0.7158 - val_accuracy: 0.0000e+00 - 163ms/epoch - 81ms/step\n",
            "Epoch 23/1000\n",
            "2/2 - 0s - loss: 0.6890 - accuracy: 0.5333 - val_loss: 0.7172 - val_accuracy: 0.0000e+00 - 174ms/epoch - 87ms/step\n",
            "Epoch 24/1000\n",
            "2/2 - 0s - loss: 0.6887 - accuracy: 0.5333 - val_loss: 0.7158 - val_accuracy: 0.0000e+00 - 175ms/epoch - 87ms/step\n",
            "Epoch 25/1000\n",
            "2/2 - 0s - loss: 0.6876 - accuracy: 0.5333 - val_loss: 0.7205 - val_accuracy: 0.0000e+00 - 175ms/epoch - 88ms/step\n",
            "Epoch 26/1000\n",
            "2/2 - 0s - loss: 0.6886 - accuracy: 0.5333 - val_loss: 0.7256 - val_accuracy: 0.0000e+00 - 141ms/epoch - 70ms/step\n",
            "Epoch 27/1000\n",
            "2/2 - 0s - loss: 0.6890 - accuracy: 0.5333 - val_loss: 0.7229 - val_accuracy: 0.0000e+00 - 142ms/epoch - 71ms/step\n",
            "Epoch 28/1000\n",
            "2/2 - 0s - loss: 0.6893 - accuracy: 0.5333 - val_loss: 0.7290 - val_accuracy: 0.0000e+00 - 135ms/epoch - 67ms/step\n",
            "Epoch 29/1000\n",
            "2/2 - 0s - loss: 0.6859 - accuracy: 0.5333 - val_loss: 0.7341 - val_accuracy: 0.0000e+00 - 146ms/epoch - 73ms/step\n",
            "Epoch 30/1000\n",
            "2/2 - 0s - loss: 0.6886 - accuracy: 0.5333 - val_loss: 0.7309 - val_accuracy: 0.0000e+00 - 137ms/epoch - 69ms/step\n",
            "Epoch 31/1000\n",
            "2/2 - 0s - loss: 0.6866 - accuracy: 0.5333 - val_loss: 0.7356 - val_accuracy: 0.0000e+00 - 147ms/epoch - 73ms/step\n",
            "Epoch 32/1000\n",
            "2/2 - 0s - loss: 0.6840 - accuracy: 0.5333 - val_loss: 0.7393 - val_accuracy: 0.0000e+00 - 158ms/epoch - 79ms/step\n",
            "Epoch 33/1000\n",
            "2/2 - 0s - loss: 0.6856 - accuracy: 0.5333 - val_loss: 0.7374 - val_accuracy: 0.0000e+00 - 172ms/epoch - 86ms/step\n",
            "Epoch 34/1000\n",
            "2/2 - 0s - loss: 0.6839 - accuracy: 0.5333 - val_loss: 0.7409 - val_accuracy: 0.0000e+00 - 165ms/epoch - 83ms/step\n",
            "Epoch 35/1000\n",
            "2/2 - 0s - loss: 0.6854 - accuracy: 0.5333 - val_loss: 0.7470 - val_accuracy: 0.0000e+00 - 166ms/epoch - 83ms/step\n",
            "Epoch 36/1000\n",
            "2/2 - 0s - loss: 0.6848 - accuracy: 0.5333 - val_loss: 0.7445 - val_accuracy: 0.0000e+00 - 173ms/epoch - 86ms/step\n",
            "Epoch 37/1000\n",
            "2/2 - 0s - loss: 0.6850 - accuracy: 0.5333 - val_loss: 0.7469 - val_accuracy: 0.0000e+00 - 183ms/epoch - 92ms/step\n",
            "Epoch 38/1000\n",
            "2/2 - 0s - loss: 0.6833 - accuracy: 0.5333 - val_loss: 0.7531 - val_accuracy: 0.0000e+00 - 172ms/epoch - 86ms/step\n",
            "Epoch 39/1000\n",
            "2/2 - 0s - loss: 0.6836 - accuracy: 0.5333 - val_loss: 0.7503 - val_accuracy: 0.0000e+00 - 180ms/epoch - 90ms/step\n",
            "Epoch 40/1000\n",
            "2/2 - 0s - loss: 0.6848 - accuracy: 0.5333 - val_loss: 0.7538 - val_accuracy: 0.0000e+00 - 170ms/epoch - 85ms/step\n",
            "Epoch 41/1000\n",
            "2/2 - 0s - loss: 0.6840 - accuracy: 0.5333 - val_loss: 0.7594 - val_accuracy: 0.0000e+00 - 170ms/epoch - 85ms/step\n",
            "Epoch 42/1000\n",
            "2/2 - 0s - loss: 0.6832 - accuracy: 0.5333 - val_loss: 0.7582 - val_accuracy: 0.0000e+00 - 178ms/epoch - 89ms/step\n",
            "Epoch 43/1000\n",
            "2/2 - 0s - loss: 0.6787 - accuracy: 0.5333 - val_loss: 0.7621 - val_accuracy: 0.0000e+00 - 179ms/epoch - 89ms/step\n",
            "Epoch 44/1000\n",
            "2/2 - 0s - loss: 0.6811 - accuracy: 0.5333 - val_loss: 0.7665 - val_accuracy: 0.0000e+00 - 175ms/epoch - 88ms/step\n",
            "Epoch 45/1000\n",
            "2/2 - 0s - loss: 0.6790 - accuracy: 0.5333 - val_loss: 0.7648 - val_accuracy: 0.0000e+00 - 172ms/epoch - 86ms/step\n",
            "Epoch 46/1000\n",
            "2/2 - 0s - loss: 0.6809 - accuracy: 0.5333 - val_loss: 0.7683 - val_accuracy: 0.0000e+00 - 167ms/epoch - 83ms/step\n",
            "Epoch 47/1000\n",
            "2/2 - 0s - loss: 0.6802 - accuracy: 0.5333 - val_loss: 0.7691 - val_accuracy: 0.0000e+00 - 217ms/epoch - 108ms/step\n",
            "Epoch 48/1000\n",
            "2/2 - 0s - loss: 0.6801 - accuracy: 0.5333 - val_loss: 0.7674 - val_accuracy: 0.0000e+00 - 178ms/epoch - 89ms/step\n",
            "Epoch 49/1000\n",
            "2/2 - 0s - loss: 0.6787 - accuracy: 0.5333 - val_loss: 0.7696 - val_accuracy: 0.0000e+00 - 197ms/epoch - 99ms/step\n",
            "Epoch 50/1000\n",
            "2/2 - 0s - loss: 0.6781 - accuracy: 0.5333 - val_loss: 0.7698 - val_accuracy: 0.0000e+00 - 176ms/epoch - 88ms/step\n",
            "Epoch 51/1000\n",
            "Restoring model weights from the end of the best epoch: 1.\n",
            "2/2 - 0s - loss: 0.6740 - accuracy: 0.5333 - val_loss: 0.7674 - val_accuracy: 0.0000e+00 - 173ms/epoch - 87ms/step\n",
            "Epoch 51: early stopping\n"
          ]
        }
      ]
    },
    {
      "cell_type": "code",
      "source": [],
      "metadata": {
        "id": "qDU8Mt34owPE"
      },
      "execution_count": null,
      "outputs": []
    }
  ]
}