{
  "nbformat": 4,
  "nbformat_minor": 0,
  "metadata": {
    "colab": {
      "provenance": [],
      "authorship_tag": "ABX9TyPd0Y4lh+f34+QY+SEDIm/Z",
      "include_colab_link": true
    },
    "kernelspec": {
      "name": "python3",
      "display_name": "Python 3"
    },
    "language_info": {
      "name": "python"
    }
  },
  "cells": [
    {
      "cell_type": "markdown",
      "metadata": {
        "id": "view-in-github",
        "colab_type": "text"
      },
      "source": [
        "<a href=\"https://colab.research.google.com/github/thofes/SJ_distance/blob/main/Spielwiese%20Auswertung%20Vorselektion.ipynb\" target=\"_parent\"><img src=\"https://colab.research.google.com/assets/colab-badge.svg\" alt=\"Open In Colab\"/></a>"
      ]
    },
    {
      "cell_type": "code",
      "source": [
        "#Connect GDrive\n",
        "from google.colab import drive\n",
        "drive.mount('/content.gdrive')\n"
      ],
      "metadata": {
        "colab": {
          "base_uri": "https://localhost:8080/"
        },
        "id": "giH55Foa6l7d",
        "outputId": "ce3060cb-0d2e-4a86-dc5f-d37cf6f6c106"
      },
      "execution_count": 1,
      "outputs": [
        {
          "output_type": "stream",
          "name": "stdout",
          "text": [
            "Mounted at /content.gdrive\n"
          ]
        }
      ]
    },
    {
      "cell_type": "code",
      "execution_count": null,
      "metadata": {
        "colab": {
          "base_uri": "https://localhost:8080/"
        },
        "id": "olmIfRtNq8ut",
        "outputId": "4a751af6-f060-4feb-f84d-90deb9b3da39"
      },
      "outputs": [
        {
          "output_type": "stream",
          "name": "stdout",
          "text": [
            "['1_0158'] ----- ['1_0157']\n",
            "['1_0157'] ----- ['1_0157']\n",
            "OK\n",
            "['1_0173', '4_0173'] ----- ['1_0173', '4_0181']\n",
            "OK\n",
            "['1_0166', '4_0166'] ----- ['1_0163', '4_0168']\n",
            "['4_0196'] ----- ['4_0196']\n",
            "OK\n",
            "['3_0198', '4_0198'] ----- ['3_0217']\n",
            "['3_0219'] ----- ['3_0234']\n",
            "['3_0215'] ----- ['3_0218', '3_0226']\n",
            "['1_0170'] ----- ['1_0169', '4_0184']\n",
            "['1_0151', '2_0151'] ----- ['1_0152']\n",
            "['1_0179', '4_178'] ----- ['1_0178', '4_0177']\n",
            "['1_0196', '4_0196'] ----- ['1_0196', '4_0199']\n",
            "OK\n",
            "['4_0183'] ----- ['4_0177']\n",
            "['1_0169', '4_0169'] ----- ['1_0170', '1_0177', '4_0190']\n",
            "['3_0193', '4_0193'] ----- ['4_0194']\n"
          ]
        },
        {
          "output_type": "stream",
          "name": "stderr",
          "text": [
            "<ipython-input-9-d5dfe5749a8c>:8: VisibleDeprecationWarning: Creating an ndarray from ragged nested sequences (which is a list-or-tuple of lists-or-tuples-or ndarrays with different lengths or shapes) is deprecated. If you meant to do this, you must specify 'dtype=object' when creating the ndarray.\n",
            "  SOLL = np.array(data[\"SOLL\"])\n",
            "<ipython-input-9-d5dfe5749a8c>:9: VisibleDeprecationWarning: Creating an ndarray from ragged nested sequences (which is a list-or-tuple of lists-or-tuples-or ndarrays with different lengths or shapes) is deprecated. If you meant to do this, you must specify 'dtype=object' when creating the ndarray.\n",
            "  IST = np.array(data[\"Selection\"])\n"
          ]
        }
      ],
      "source": [
        "import json\n",
        "import numpy as np\n",
        "#with open('/content.gdrive/MyDrive/Vorselektion/Landing_sequence_big/Results/results.json', \"r\") as fp:\n",
        "#with open('/content.gdrive/MyDrive/Vorselektion/Landing_Frame_big/Results/results.json', \"r\") as fp:\n",
        "with open('/content.gdrive/MyDrive/Vorselektion/Flight_Landing_big/Results/results.json', \"r\") as fp:\n",
        "  data = json.load(fp)\n",
        "\n",
        "SOLL = np.array(data[\"SOLL\"])\n",
        "IST = np.array(data[\"Selection\"])\n",
        "\n",
        "for i, x in enumerate(SOLL):\n",
        "  print(SOLL[i], \"-----\", IST[i])\n",
        "  if len(IST[i]) == 1 and len(SOLL[i]) == 1 and SOLL[i][0] == IST[i][0]:\n",
        "    print(\"OK\")\n",
        "  if len(IST[i]) == 1 and len(SOLL[i]) == 2:\n",
        "    if SOLL[i][0] == IST[i][0] or SOLL[i][1] == IST[i][0]:\n",
        "      print(\"OK\")\n",
        "  if len(IST[i]) == 2 and len(SOLL[i]) == 1:\n",
        "    if SOLL[i][0] == IST[i][0] or SOLL[i][0] == IST[i][1]:\n",
        "      print(\"OK\")\n",
        "  if len(IST[i]) == 2 and len(SOLL[i]) == 2:\n",
        "    if SOLL[i][0] == IST[i][0] or SOLL[i][0] == IST[i][1] or SOLL[i][1] == IST[i][0] or SOLL[i][1] == IST[i][1] :\n",
        "      print(\"OK\")\n",
        "\n"
      ]
    },
    {
      "cell_type": "code",
      "source": [
        "\n",
        "#to compare\n",
        "\n",
        "Labels = { '29':['Cam1_0158'], '30':['Cam1_0157'], '31':['Cam1_0173','Cam4_0173'], '32':['Cam1_0166','Cam4_0166'], '33':['Cam4_0196'], '34':['Cam3_0198','Cam4_0198'], '35':['Cam3_0219'], '36':['Cam3_0215'], '42':['Cam1_0170'], '43':['Cam1_0151','Cam2_0151'], '44':['Cam1_0179','Cam4_178'], '45':['Cam1_0196','Cam4_0196'], '46':['Cam4_0183'], '47':['Cam1_0169','Cam4_0169'], '48':['Cam3_0193','Cam4_0193']}\n",
        "print(Labels['31'])\n",
        "print(Labels['42'])\n",
        "td = Labels.keys()\n",
        "print(list(td))\n"
      ],
      "metadata": {
        "colab": {
          "base_uri": "https://localhost:8080/"
        },
        "id": "mMxWWbgeBrjJ",
        "outputId": "81849895-00ee-4c3b-ae23-a005013ca688"
      },
      "execution_count": 3,
      "outputs": [
        {
          "output_type": "stream",
          "name": "stdout",
          "text": [
            "['Cam1_0173', 'Cam4_0173']\n",
            "['Cam1_0170']\n",
            "['29', '30', '31', '32', '33', '34', '35', '36', '42', '43', '44', '45', '46', '47', '48']\n"
          ]
        }
      ]
    },
    {
      "cell_type": "code",
      "source": [
        "#manually selection \n",
        "\n",
        "import json\n",
        "import numpy as np\n",
        "import matplotlib.pyplot as plt\n",
        "import os\n",
        "\n",
        "xx = '73'\n",
        "\n",
        "landing_pic = \"/content.gdrive/MyDrive/Vorselektion/Ramsau_Samples/\" + xx\n",
        "\n",
        "Path_Result_1 = '/content.gdrive/MyDrive/Vorselektion/Landing_sequence_big/Results/' + xx\n",
        "\n",
        "Path_Result_2 = '/content.gdrive/MyDrive/Vorselektion/Flight_Landing_big/Results/' + xx\n",
        "\n",
        "Path_Result_3 = '/content.gdrive/MyDrive/Vorselektion/Landing_Frame_big/Results/' + xx\n",
        "\n",
        "\n",
        "x = 0.8\n",
        "\n",
        "name = 'confthres' + str(x)\n",
        "\n",
        "\n",
        "\n",
        "\n",
        "x = input (\"Enter which Results you want to see: (1 for landing sequence, 2 for landing/flight, 3 for landing frame) \")\n",
        "if x == '1':\n",
        "  Path = Path_Result_1\n",
        "  print(\"Results of the landing sequence selection\")\n",
        "elif x == '2':\n",
        "  Path = Path_Result_2\n",
        "  print(\"Results of the landing/flight selection\")\n",
        "elif x == '3':\n",
        "  Path = Path_Result_3\n",
        "  print(\"Results of the landing frame selection\")\n",
        "else:\n",
        "  print(\"Wrong choise - i show the results of the landing/flight selection\")\n",
        "  Path = Path_Result_3\n",
        "\n",
        "with open(Path + '/' + name + '/list.json', \"r\") as fp:\n",
        "    data = json.load(fp)\n",
        "  \n",
        "conf = np.array(data[\"conf\"])\n",
        "index = np.array(data[\"index\"])\n",
        "cls = np.array(data[\"cls\"])\n",
        "x_center = np.array(data[\"x\"])\n",
        "y_center = np.array(data[\"y\"])\n",
        "\n",
        "\n",
        "\n",
        "index1 = []\n",
        "conf1 = []\n",
        "cls1 = []\n",
        "index2 = []\n",
        "conf2 = []\n",
        "cls2 = []\n",
        "index3 = []\n",
        "conf3 = []\n",
        "cls3 = []\n",
        "index4 = []\n",
        "conf4 = []\n",
        "cls4 = []\n",
        "\n",
        "for i, idx in enumerate(index):\n",
        "    if idx[0] == '1':\n",
        "      conf2.append(conf[i])\n",
        "      index2.append(idx[2:])\n",
        "      cls2.append(cls[i])\n",
        "    elif idx[0] == '2':\n",
        "      conf1.append(conf[i])\n",
        "      index1.append(idx[2:])\n",
        "      cls1.append(cls[i])\n",
        "    elif idx[0] == '3':\n",
        "      conf4.append(conf[i])\n",
        "      index4.append(idx[2:])\n",
        "      cls4.append(cls[i])\n",
        "    elif idx[0] == '4':\n",
        "      conf3.append(conf[i])\n",
        "      index3.append(idx[2:])\n",
        "      cls3.append(cls[i])\n",
        "\n",
        "\"\"\"\n",
        "plt.plot(index1, conf1)\n",
        "plt.show()\n",
        "plt.plot(index2, conf2)\n",
        "plt.show()\n",
        "plt.plot(index3, conf3)\n",
        "plt.show()\n",
        "plt.plot(index4, conf4)\n",
        "plt.show()\n",
        "\n",
        "plt.plot(index1, conf1)\n",
        "plt.plot(index2, conf2)\n",
        "plt.plot(index3, conf3)\n",
        "plt.plot(index4, conf4)\n",
        "plt.show()\n",
        "\"\"\"\n",
        "if x == '1' or x == '3':\n",
        "    detections = []\n",
        "    cams = [conf2, conf1, conf4, conf3]\n",
        "    indexes = [index2, index1, index4, index3]\n",
        "    for idx, cam in enumerate(cams):\n",
        "      for i, c in enumerate(cam):\n",
        "        if c > 0:\n",
        "          detections.append(str(idx+1)+ \"_\" + indexes[idx][i])\n",
        "\n",
        "    maxindex = np.argmax(conf)\n",
        "    detection = index[maxindex]  \n",
        "    print(\"The Preselection would detect the landing in following frame: \", detection)\n",
        "    print(\"Summe der Detections\", len(detections))\n",
        "  \n",
        "    cam1 = []\n",
        "    cam2 = []\n",
        "    cam3 = []\n",
        "    cam4 = []\n",
        "    for det in detections:\n",
        "        if det[0] == '1':\n",
        "          cam1.append(det)\n",
        "        elif det[0] == '2':\n",
        "          cam2.append(det)\n",
        "        elif det[0] == '3':\n",
        "          cam3.append(det)\n",
        "        elif det[0] == '4':\n",
        "          cam4.append(det)\n",
        "    if len(cam1) != 0:\n",
        "      print(\"In Cam 1 von \", cam1[0], \"bis \", cam1[-1])\n",
        "    if len(cam2) != 0:\n",
        "      print(\"In Cam 2 von \", cam2[0], \"bis \", cam2[-1])\n",
        "    if len(cam3) != 0:\n",
        "      print(\"In Cam 3 von \", cam3[0], \"bis \", cam3[-1])\n",
        "    if len(cam4) != 0:\n",
        "      print(\"In Cam 4 von \", cam4[0], \"bis \", cam4[-1])\n",
        "\n",
        "elif x == '2':\n",
        "    \n",
        "    cams = [cls2, cls1, cls4, cls3]\n",
        "    indexes = [index2, index1, index4, index3]\n",
        "    detections = []\n",
        "    for idx, cam in enumerate(cams):\n",
        "      lastcls = 9\n",
        "      for i, c in enumerate(cam):\n",
        "          if c == 1:\n",
        "              lastcls = 1\n",
        "          if c == 0 and lastcls == 1:\n",
        "              detections.append(str(idx+1)+ \"_\" + indexes[idx][i])\n",
        "              lastcls = 9\n",
        "              break\n",
        "      if len(detections) > 0:\n",
        "          break\n",
        "\n",
        "    print(\"The Preselection would detect landings in following frames: \", detections)\n",
        "    \"\"\"\n",
        "    Mit 5 Bilder vorher und nachher - öfter Probleme\n",
        "    detections = []\n",
        "    lastcls = 9\n",
        "    counter_flight = 0\n",
        "    counter_landing = 0\n",
        "    for i, c in enumerate(cls1):\n",
        "        if c == 1:\n",
        "            lastcls = 1\n",
        "            counter_flight += 1\n",
        "        if c == 0 and counter_flight > 5 and lastcls == 1:\n",
        "            counter_landing += 1\n",
        "            if counter_landing == 1:\n",
        "              saveidx = i\n",
        "        if c == 0 and counter_landing == 5:\n",
        "            detections.append(\"2_\" + index1[saveidx])\n",
        "            lastcls = 9\n",
        "            break\n",
        "\n",
        "    lastcls = 9\n",
        "    counter_flight = 0\n",
        "    counter_landing = 0\n",
        "    for i, c in enumerate(cls2):\n",
        "        if c == 1:\n",
        "            lastcls = 1\n",
        "            counter_flight += 1\n",
        "        if c == 0 and counter_flight > 5 and lastcls == 1:\n",
        "            counter_landing += 1\n",
        "            if counter_landing == 1:\n",
        "              saveidx = i\n",
        "        if c == 0 and counter_landing == 5:\n",
        "            detections.append(\"1_\" + index1[saveidx])\n",
        "            lastcls = 9\n",
        "            break\n",
        "\n",
        "    lastcls = 9\n",
        "    counter_flight = 0\n",
        "    counter_landing = 0\n",
        "    for i, c in enumerate(cls3):\n",
        "        if c == 1:\n",
        "            lastcls = 1\n",
        "            counter_flight += 1\n",
        "        if c == 0 and counter_flight > 5 and lastcls == 1:\n",
        "            counter_landing += 1\n",
        "            if counter_landing == 1:\n",
        "              saveidx = i\n",
        "        if c == 0 and counter_landing == 5:\n",
        "            detections.append(\"4_\" + index1[saveidx])\n",
        "            lastcls = 9\n",
        "            break\n",
        "\n",
        "    lastcls = 9\n",
        "    counter_flight = 0\n",
        "    counter_landing = 0\n",
        "    for i, c in enumerate(cls4):\n",
        "        if c == 1:\n",
        "            lastcls = 1\n",
        "            counter_flight += 1\n",
        "        if c == 0 and counter_flight > 5 and lastcls == 1:\n",
        "            counter_landing += 1\n",
        "            if counter_landing == 1:\n",
        "              saveidx = i\n",
        "        if c == 0 and counter_landing == 5:\n",
        "            detections.append(\"3_\" + index1[saveidx])\n",
        "            lastcls = 9\n",
        "            break\n",
        "\n",
        "    print(\"The Preselection would detect landings in following frames: \", detections)\n",
        "    \"\"\"\n",
        "#elif x == '3':\n",
        "    \n",
        "\n",
        "print(\"By manually labeling following frame is the landing: \", Labels[xx])\n",
        "\n",
        "\n",
        "\n",
        "\n",
        "\n"
      ],
      "metadata": {
        "colab": {
          "base_uri": "https://localhost:8080/",
          "height": 299
        },
        "id": "w0w-72k0BaJ9",
        "outputId": "bd786140-0b7c-4e0f-aed1-182927f262c9"
      },
      "execution_count": 53,
      "outputs": [
        {
          "output_type": "stream",
          "name": "stdout",
          "text": [
            "Enter which Results you want to see: (1 for landing sequence, 2 for landing/flight, 3 for landing frame) 2\n",
            "Results of the landing/flight selection\n",
            "The Preselection would detect landings in following frames:  ['3_0135']\n"
          ]
        },
        {
          "output_type": "error",
          "ename": "KeyError",
          "evalue": "ignored",
          "traceback": [
            "\u001b[0;31m---------------------------------------------------------------------------\u001b[0m",
            "\u001b[0;31mKeyError\u001b[0m                                  Traceback (most recent call last)",
            "\u001b[0;32m<ipython-input-53-18368295c34e>\u001b[0m in \u001b[0;36m<module>\u001b[0;34m\u001b[0m\n\u001b[1;32m    222\u001b[0m \u001b[0;34m\u001b[0m\u001b[0m\n\u001b[1;32m    223\u001b[0m \u001b[0;34m\u001b[0m\u001b[0m\n\u001b[0;32m--> 224\u001b[0;31m \u001b[0mprint\u001b[0m\u001b[0;34m(\u001b[0m\u001b[0;34m\"By manually labeling following frame is the landing: \"\u001b[0m\u001b[0;34m,\u001b[0m \u001b[0mLabels\u001b[0m\u001b[0;34m[\u001b[0m\u001b[0mxx\u001b[0m\u001b[0;34m]\u001b[0m\u001b[0;34m)\u001b[0m\u001b[0;34m\u001b[0m\u001b[0;34m\u001b[0m\u001b[0m\n\u001b[0m\u001b[1;32m    225\u001b[0m \u001b[0;34m\u001b[0m\u001b[0m\n\u001b[1;32m    226\u001b[0m \u001b[0;34m\u001b[0m\u001b[0m\n",
            "\u001b[0;31mKeyError\u001b[0m: '73'"
          ]
        }
      ]
    },
    {
      "cell_type": "code",
      "source": [],
      "metadata": {
        "id": "Ql23CoQm--AN"
      },
      "execution_count": null,
      "outputs": []
    },
    {
      "cell_type": "code",
      "source": [],
      "metadata": {
        "id": "1rJEPjbKr1UP"
      },
      "execution_count": null,
      "outputs": []
    }
  ]
}