{
  "nbformat": 4,
  "nbformat_minor": 0,
  "metadata": {
    "colab": {
      "provenance": [],
      "authorship_tag": "ABX9TyPt35fi2niiUPDCpz66gY+W",
      "include_colab_link": true
    },
    "kernelspec": {
      "name": "python3",
      "display_name": "Python 3"
    },
    "language_info": {
      "name": "python"
    }
  },
  "cells": [
    {
      "cell_type": "markdown",
      "metadata": {
        "id": "view-in-github",
        "colab_type": "text"
      },
      "source": [
        "<a href=\"https://colab.research.google.com/github/thofes/SJ_distance/blob/main/Spielwiese%20Auswertung%20Vorselektion.ipynb\" target=\"_parent\"><img src=\"https://colab.research.google.com/assets/colab-badge.svg\" alt=\"Open In Colab\"/></a>"
      ]
    },
    {
      "cell_type": "code",
      "source": [
        "#Connect GDrive\n",
        "from google.colab import drive\n",
        "drive.mount('/content.gdrive')\n"
      ],
      "metadata": {
        "colab": {
          "base_uri": "https://localhost:8080/"
        },
        "id": "giH55Foa6l7d",
        "outputId": "2a3ccdd5-5764-40b9-a7e2-1ee1006979db"
      },
      "execution_count": 1,
      "outputs": [
        {
          "output_type": "stream",
          "name": "stdout",
          "text": [
            "Mounted at /content.gdrive\n"
          ]
        }
      ]
    },
    {
      "cell_type": "code",
      "execution_count": 9,
      "metadata": {
        "colab": {
          "base_uri": "https://localhost:8080/"
        },
        "id": "olmIfRtNq8ut",
        "outputId": "4a751af6-f060-4feb-f84d-90deb9b3da39"
      },
      "outputs": [
        {
          "output_type": "stream",
          "name": "stdout",
          "text": [
            "['1_0158'] ----- ['1_0157']\n",
            "['1_0157'] ----- ['1_0157']\n",
            "OK\n",
            "['1_0173', '4_0173'] ----- ['1_0173', '4_0181']\n",
            "OK\n",
            "['1_0166', '4_0166'] ----- ['1_0163', '4_0168']\n",
            "['4_0196'] ----- ['4_0196']\n",
            "OK\n",
            "['3_0198', '4_0198'] ----- ['3_0217']\n",
            "['3_0219'] ----- ['3_0234']\n",
            "['3_0215'] ----- ['3_0218', '3_0226']\n",
            "['1_0170'] ----- ['1_0169', '4_0184']\n",
            "['1_0151', '2_0151'] ----- ['1_0152']\n",
            "['1_0179', '4_178'] ----- ['1_0178', '4_0177']\n",
            "['1_0196', '4_0196'] ----- ['1_0196', '4_0199']\n",
            "OK\n",
            "['4_0183'] ----- ['4_0177']\n",
            "['1_0169', '4_0169'] ----- ['1_0170', '1_0177', '4_0190']\n",
            "['3_0193', '4_0193'] ----- ['4_0194']\n"
          ]
        },
        {
          "output_type": "stream",
          "name": "stderr",
          "text": [
            "<ipython-input-9-d5dfe5749a8c>:8: VisibleDeprecationWarning: Creating an ndarray from ragged nested sequences (which is a list-or-tuple of lists-or-tuples-or ndarrays with different lengths or shapes) is deprecated. If you meant to do this, you must specify 'dtype=object' when creating the ndarray.\n",
            "  SOLL = np.array(data[\"SOLL\"])\n",
            "<ipython-input-9-d5dfe5749a8c>:9: VisibleDeprecationWarning: Creating an ndarray from ragged nested sequences (which is a list-or-tuple of lists-or-tuples-or ndarrays with different lengths or shapes) is deprecated. If you meant to do this, you must specify 'dtype=object' when creating the ndarray.\n",
            "  IST = np.array(data[\"Selection\"])\n"
          ]
        }
      ],
      "source": [
        "import json\n",
        "import numpy as np\n",
        "#with open('/content.gdrive/MyDrive/Vorselektion/Landing_sequence_big/Results/results.json', \"r\") as fp:\n",
        "#with open('/content.gdrive/MyDrive/Vorselektion/Landing_Frame_big/Results/results.json', \"r\") as fp:\n",
        "with open('/content.gdrive/MyDrive/Vorselektion/Flight_Landing_big/Results/results.json', \"r\") as fp:\n",
        "  data = json.load(fp)\n",
        "\n",
        "SOLL = np.array(data[\"SOLL\"])\n",
        "IST = np.array(data[\"Selection\"])\n",
        "\n",
        "for i, x in enumerate(SOLL):\n",
        "  print(SOLL[i], \"-----\", IST[i])\n",
        "  if len(IST[i]) == 1 and len(SOLL[i]) == 1 and SOLL[i][0] == IST[i][0]:\n",
        "    print(\"OK\")\n",
        "  if len(IST[i]) == 1 and len(SOLL[i]) == 2:\n",
        "    if SOLL[i][0] == IST[i][0] or SOLL[i][1] == IST[i][0]:\n",
        "      print(\"OK\")\n",
        "  if len(IST[i]) == 2 and len(SOLL[i]) == 1:\n",
        "    if SOLL[i][0] == IST[i][0] or SOLL[i][0] == IST[i][1]:\n",
        "      print(\"OK\")\n",
        "  if len(IST[i]) == 2 and len(SOLL[i]) == 2:\n",
        "    if SOLL[i][0] == IST[i][0] or SOLL[i][0] == IST[i][1] or SOLL[i][1] == IST[i][0] or SOLL[i][1] == IST[i][1] :\n",
        "      print(\"OK\")\n",
        "\n"
      ]
    },
    {
      "cell_type": "code",
      "source": [
        "#to compare\n",
        "Labels = { '29':'1_0158', '30':'1_0157', '31':'1_0173/4_0173', '32':'1_0166/4_0166', '33':'4_0196', '34':'3_0198/4_0198', '35':'3_0219', '36':'3_0215', '42':'1_0170', '43':'1_0151/2_0151', '44':'1_0179/4_178', '45':'1_0196/4_0196', '46':'4_0183', '47':'1_0169/4_0169', '48':'3_0193/4_0193'}\n",
        "print(Labels['29'])\n",
        "print(Labels['42'])\n",
        "td = Labels.keys()\n",
        "print(list(td))\n"
      ],
      "metadata": {
        "colab": {
          "base_uri": "https://localhost:8080/"
        },
        "id": "mMxWWbgeBrjJ",
        "outputId": "e735c4ce-e1ee-4120-c6d7-e25fcf8e0473"
      },
      "execution_count": 11,
      "outputs": [
        {
          "output_type": "stream",
          "name": "stdout",
          "text": [
            "1_0158\n",
            "1_0170\n",
            "['29', '30', '31', '32', '33', '34', '35', '36', '42', '43', '44', '45', '46', '47', '48']\n"
          ]
        }
      ]
    },
    {
      "cell_type": "code",
      "source": [
        "#manually selection \n",
        "\n",
        "import json\n",
        "import numpy as np\n",
        "import matplotlib.pyplot as plt\n",
        "import os\n",
        "\n",
        "xx = '31'\n",
        "\n",
        "landing_pic = \"/content.gdrive/MyDrive/Vorselektion/B-Hofen_Samples/\" + xx\n",
        "\n",
        "Path_Result_1 = '/content.gdrive/MyDrive/Vorselektion/Landing_sequence_big/Results/' + xx\n",
        "\n",
        "Path_Result_2 = '/content.gdrive/MyDrive/Vorselektion/Flight_Landing_big/Results/' + xx\n",
        "\n",
        "\n",
        "Path_Result_3 = '/content.gdrive/MyDrive/Vorselektion/Landing_Frame_big/Results/' + xx\n",
        "\n",
        "\n",
        "x = 0.83\n",
        "\n",
        "name = 'confthres' + str(x)\n",
        "\n",
        "\n",
        "\n",
        "\n",
        "x = input (\"Enter which Results you want to see: (1 for landing sequence, 2 for landing/flight, 3 for landing frame) \")\n",
        "if x == '1':\n",
        "  Path = Path_Result_1\n",
        "  print(\"Results of the landing sequence selection\")\n",
        "elif x == '2':\n",
        "  Path = Path_Result_2\n",
        "  print(\"Results of the landing/flight selection\")\n",
        "elif x == '3':\n",
        "  Path = Path_Result_3\n",
        "  print(\"Results of the landing frame selection\")\n",
        "else:\n",
        "  print(\"Wrong choise - i show the results of the landing/flight selection\")\n",
        "  Path = Path_Result_3\n",
        "\n",
        "with open(Path + '/' + name + '/list.json', \"r\") as fp:\n",
        "    data = json.load(fp)\n",
        "  \n",
        "conf = np.array(data[\"conf\"])\n",
        "index = np.array(data[\"index\"])\n",
        "cls = np.array(data[\"cls\"])\n",
        "x_center = np.array(data[\"x\"])\n",
        "y_center = np.array(data[\"y\"])\n",
        "\n",
        "\n",
        "X = index\n",
        "Y = conf\n",
        "\n",
        "plt.plot(X, Y)\n",
        "plt.show()\n",
        "\n",
        "index1 = []\n",
        "conf1 = []\n",
        "cls1 = []\n",
        "index2 = []\n",
        "conf2 = []\n",
        "cls2 = []\n",
        "index3 = []\n",
        "conf3 = []\n",
        "cls3 = []\n",
        "index4 = []\n",
        "conf4 = []\n",
        "cls4 = []\n",
        "\n",
        "for i, x in enumerate(index):\n",
        "    if x[0] == '1':\n",
        "      conf2.append(conf[i])\n",
        "      index2.append(x[2:])\n",
        "      cls2.append(cls[i])\n",
        "    elif x[0] == '2':\n",
        "      conf1.append(conf[i])\n",
        "      index1.append(x[2:])\n",
        "      cls1.append(cls[i])\n",
        "    elif x[0] == '3':\n",
        "      conf4.append(conf[i])\n",
        "      index4.append(x[2:])\n",
        "      cls4.append(cls[i])\n",
        "    elif x[0] == '4':\n",
        "      conf3.append(conf[i])\n",
        "      index3.append(x[2:])\n",
        "      cls3.append(cls[i])\n",
        "\n",
        "\n",
        "\n",
        "plt.plot(index2, conf2)\n",
        "plt.show()\n",
        "plt.plot(index1, conf1)\n",
        "plt.show()\n",
        "plt.plot(index4, conf4)\n",
        "plt.show()\n",
        "plt.plot(index3, conf3)\n",
        "plt.show()\n",
        "\n",
        "plt.plot(index1, conf1)\n",
        "plt.plot(index2, conf2)\n",
        "plt.plot(index3, conf3)\n",
        "plt.plot(index4, conf4)\n",
        "plt.show()\n",
        "\n",
        "\n",
        "if 1 in cls:\n",
        " \n",
        "    detections = []\n",
        "    lastcls = 9\n",
        "    for i, c in enumerate(cls1):\n",
        "        if c == 1:\n",
        "            lastcls = 1\n",
        "        if c == 0 and lastcls == 1:\n",
        "            detections.append(\"2_\" + index1[i])\n",
        "            lastcls = 9\n",
        "\n",
        "    lastcls = 9\n",
        "    for i, c in enumerate(cls2):\n",
        "        if c == 1:\n",
        "            lastcls = 1\n",
        "        if c == 0 and lastcls == 1:\n",
        "            detections.append(\"1_\" + index2[i])\n",
        "            lastcls = 9\n",
        "\n",
        "    lastcls = 9\n",
        "    for i, c in enumerate(cls3):\n",
        "        if c == 1:\n",
        "            lastcls = 1\n",
        "        if c == 0 and lastcls == 1:\n",
        "            detections.append(\"4_\" + index3[i])\n",
        "            lastcls = 9\n",
        "\n",
        "    lastcls = 9\n",
        "    for i, c in enumerate(cls4):\n",
        "        if c == 1:\n",
        "            lastcls = 1\n",
        "        if c == 0 and lastcls == 1:\n",
        "            detections.append(\"3_\" + index4[i])\n",
        "            lastcls = 9\n",
        "\n",
        "\n",
        "\n",
        "    print(\"The Preselection would detect landings in following frames: \", detections)\n",
        "\n",
        "\n",
        "else:\n",
        "\n",
        "    maxindex = np.argmax(conf)\n",
        "    detection = index[maxindex]  \n",
        "    print(\"The Preselection would detect the landing in following frame: \", detection)\n",
        "\n",
        "\n",
        "print(\"By manually labeling following frame is the landing: \", Labels[xx])\n",
        "\n",
        "\n",
        "\n",
        "\n",
        "\n"
      ],
      "metadata": {
        "colab": {
          "base_uri": "https://localhost:8080/",
          "height": 1000
        },
        "id": "w0w-72k0BaJ9",
        "outputId": "c7a6aa4c-42ce-4f55-fc6d-d63b75fb2f0a"
      },
      "execution_count": 13,
      "outputs": [
        {
          "output_type": "stream",
          "name": "stdout",
          "text": [
            "Enter which Results you want to see: (1 for landing sequence, 2 for landing/flight, 3 for landing frame) 2\n",
            "Results of the landing/flight selection\n"
          ]
        },
        {
          "output_type": "display_data",
          "data": {
            "text/plain": [
              "<Figure size 432x288 with 1 Axes>"
            ],
            "image/png": "[encoded data removed]"
          },
          "metadata": {
            "needs_background": "light"
          }
        },
        {
          "output_type": "display_data",
          "data": {
            "text/plain": [
              "<Figure size 432x288 with 1 Axes>"
            ],
            "image/png": "[encoded data removed]"
          },
          "metadata": {
            "needs_background": "light"
          }
        },
        {
          "output_type": "display_data",
          "data": {
            "text/plain": [
              "<Figure size 432x288 with 1 Axes>"
            ],
            "image/png": "[encoded data removed]"
          },
          "metadata": {
            "needs_background": "light"
          }
        },
        {
          "output_type": "display_data",
          "data": {
            "text/plain": [
              "<Figure size 432x288 with 1 Axes>"
            ],
            "image/png": "[encoded data removed]"
          },
          "metadata": {
            "needs_background": "light"
          }
        },
        {
          "output_type": "display_data",
          "data": {
            "text/plain": [
              "<Figure size 432x288 with 1 Axes>"
            ],
            "image/png": "[encoded data removed]"
          },
          "metadata": {
            "needs_background": "light"
          }
        },
        {
          "output_type": "display_data",
          "data": {
            "text/plain": [
              "<Figure size 432x288 with 1 Axes>"
            ],
            "image/png": "[encoded data removed]"
          },
          "metadata": {
            "needs_background": "light"
          }
        },
        {
          "output_type": "stream",
          "name": "stdout",
          "text": [
            "The Preselection would detect landings in following frames:  ['1_0173', '4_0181']\n",
            "By manually labeling following frame is the landing:  1_0173/4_0173\n"
          ]
        }
      ]
    },
    {
      "cell_type": "code",
      "source": [],
      "metadata": {
        "id": "Ql23CoQm--AN"
      },
      "execution_count": null,
      "outputs": []
    },
    {
      "cell_type": "code",
      "source": [],
      "metadata": {
        "id": "1rJEPjbKr1UP"
      },
      "execution_count": null,
      "outputs": []
    }
  ]
}