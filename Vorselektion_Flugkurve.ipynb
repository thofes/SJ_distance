{
  "nbformat": 4,
  "nbformat_minor": 0,
  "metadata": {
    "colab": {
      "provenance": [],
      "authorship_tag": "ABX9TyO8WXmZ7pwJ0QOhh5X64n8N",
      "include_colab_link": true
    },
    "kernelspec": {
      "name": "python3",
      "display_name": "Python 3"
    },
    "language_info": {
      "name": "python"
    }
  },
  "cells": [
    {
      "cell_type": "markdown",
      "metadata": {
        "id": "view-in-github",
        "colab_type": "text"
      },
      "source": [
        "<a href=\"https://colab.research.google.com/github/thofes/SJ_distance/blob/main/Vorselektion_Flugkurve.ipynb\" target=\"_parent\"><img src=\"https://colab.research.google.com/assets/colab-badge.svg\" alt=\"Open In Colab\"/></a>"
      ]
    },
    {
      "cell_type": "code",
      "execution_count": 1,
      "metadata": {
        "colab": {
          "base_uri": "https://localhost:8080/"
        },
        "id": "GfpbeCj9ikGK",
        "outputId": "f728963d-db8f-43d3-85e1-81aec284c480"
      },
      "outputs": [
        {
          "output_type": "stream",
          "name": "stdout",
          "text": [
            "Mounted at /content.gdrive\n"
          ]
        }
      ],
      "source": [
        "#Connect GDrive\n",
        "from google.colab import drive\n",
        "drive.mount('/content.gdrive')"
      ]
    },
    {
      "cell_type": "code",
      "source": [
        "import json\n",
        "import numpy as np\n",
        "with open('/content.gdrive/MyDrive/Vorselektion/Flight_Landing_big/Results/29/confthres0.8/list.json', \"r\") as fp:\n",
        "        data = json.load(fp)\n",
        "      \n",
        "conf = np.array(data[\"conf\"])\n",
        "index = np.array(data[\"index\"])\n",
        "cls = np.array(data[\"cls\"])\n",
        "x_center = np.array(data[\"x\"])\n",
        "y_center = np.array(data[\"y\"])"
      ],
      "metadata": {
        "id": "bpj-uMt2i2a7"
      },
      "execution_count": 4,
      "outputs": []
    },
    {
      "cell_type": "code",
      "source": [
        "print(x_center)\n",
        "print(y_center)\n",
        "\n",
        "points = list(zip(x_center[0:37], y_center[0:37]))\n",
        "print(points)"
      ],
      "metadata": {
        "colab": {
          "base_uri": "https://localhost:8080/"
        },
        "id": "rP2v-CMljXqH",
        "outputId": "7a91b0a4-7dab-46be-ceaf-7164cbf5452f"
      },
      "execution_count": 13,
      "outputs": [
        {
          "output_type": "stream",
          "name": "stdout",
          "text": [
            "[1020.65625429 1002.93751717  985.78127146  958.49998713  927.28126287\n",
            "  897.18752146  867.65627146  841.49996996  782.43746996  756.56247854\n",
            "  728.43752146  698.90627146  672.46872425  644.06252146  615.09376287\n",
            "  587.24998713  557.15624571  536.06249571  508.78124356  484.59375858\n",
            "  453.93749356  432.28125215  405.          378.56248498  352.12500215\n",
            "  327.65623927  298.12498927  278.99999142  246.37500644  225.56250215\n",
            "  199.12500322  176.90625429  149.06249464  119.81249839   97.31250376\n",
            "   74.53124732   57.93750107   49.21875134  408.37501287  384.74998713\n",
            "  361.68748498  342.28124142  316.12500429  293.06250215  266.34375751\n",
            "  241.03125751  216.56249464  191.24999464  117.56250054 1011.37501717\n",
            "  968.62502575  926.71877146  901.68751717  877.5         853.59372854\n",
            "  808.03128004  783.56251717  761.90627575  735.74997425  708.18750858\n",
            "  685.12497425  658.40624571  633.09374571  606.37501717  579.93746996\n",
            "  549.84372854  521.99998498  466.59374356  215.43749571  145.12500644]\n",
            "[1026.66664124 1044.44446564 1059.55558777 1064.00001526 1080.\n",
            " 1075.55557251 1079.11113739 1080.         1091.55555725 1103.1111145\n",
            " 1113.77780914 1113.77780914 1114.66667175 1118.22223663 1103.99997711\n",
            " 1117.33337402 1139.55551147 1126.222229   1129.77779388 1118.22223663\n",
            " 1115.55553436 1115.55553436 1114.66667175 1109.33338165 1115.55553436\n",
            " 1120.8889389  1125.33336639 1119.99996185 1105.77781677 1112.88883209\n",
            " 1112.88883209 1110.22224426 1109.33338165 1107.55554199 1099.55554962\n",
            " 1100.44441223 1097.7778244  1087.11112976 1264.88891602 1269.33334351\n",
            " 1278.22219849 1281.77776337 1294.22218323 1296.8888855  1300.44445038\n",
            " 1302.2221756  1308.44444275 1318.22227478 1342.22225189  690.66667557\n",
            "  706.66666031  716.44443512  724.44442749  737.77776718  740.44446945\n",
            "  753.77775192  763.55558395  768.88887405  780.4444313   787.55556107\n",
            "  786.66664124  815.11110306  810.66667557  818.66666794  819.55553055\n",
            "  840.88886261  855.11112213  883.55558395  933.33332062  938.66666794]\n",
            "[(1020.6562542915344, 1026.6666412353516), (1002.9375171661377, 1044.444465637207), (985.7812714576721, 1059.5555877685547), (958.4999871253967, 1064.000015258789), (927.2812628746033, 1080.0), (897.1875214576721, 1075.5555725097656), (867.6562714576721, 1079.1111373901367), (841.499969959259, 1080.0), (782.437469959259, 1091.5555572509766), (756.5624785423279, 1103.1111145019531), (728.4375214576721, 1113.7778091430664), (698.9062714576721, 1113.7778091430664), (672.4687242507935, 1114.6666717529297), (644.0625214576721, 1118.2222366333008), (615.0937628746033, 1103.9999771118164), (587.2499871253967, 1117.3333740234375), (557.1562457084656, 1139.5555114746094), (536.0624957084656, 1126.2222290039062), (508.78124356269836, 1129.7777938842773), (484.59375858306885, 1118.2222366333008), (453.93749356269836, 1115.555534362793), (432.2812521457672, 1115.555534362793), (405.0, 1114.6666717529297), (378.5624849796295, 1109.333381652832), (352.1250021457672, 1115.555534362793), (327.65623927116394, 1120.8889389038086), (298.12498927116394, 1125.333366394043), (278.99999141693115, 1119.9999618530273), (246.37500643730164, 1105.777816772461), (225.5625021457672, 1112.8888320922852), (199.12500321865082, 1112.8888320922852), (176.90625429153442, 1110.2222442626953), (149.06249463558197, 1109.333381652832), (119.81249839067459, 1107.5555419921875), (97.31250375509262, 1099.555549621582), (74.53124731779099, 1100.4444122314453), (57.937501072883606, 1097.7778244018555)]\n"
          ]
        }
      ]
    },
    {
      "cell_type": "code",
      "source": [
        "plt.plot(x_center[0:37], y_center[0:37])\n",
        "plt.xlim(0, 1080) # set x-axis limits to (0, 1080)\n",
        "plt.ylim(0, 1920) # set y-axis limits to (0, 1920)\n",
        "plt.gca().invert_yaxis()\n",
        "plt.show()"
      ],
      "metadata": {
        "colab": {
          "base_uri": "https://localhost:8080/",
          "height": 269
        },
        "id": "4Iw4zCMmlB18",
        "outputId": "e363419c-038d-4904-aabb-3d38132471c9"
      },
      "execution_count": 20,
      "outputs": [
        {
          "output_type": "display_data",
          "data": {
            "text/plain": [
              "<Figure size 432x288 with 1 Axes>"
            ],
            "image/png": "[encoded data removed]"
          },
          "metadata": {
            "needs_background": "light"
          }
        }
      ]
    },
    {
      "cell_type": "code",
      "source": [
        "from typing import List, Tuple\n",
        "\n",
        "def lagrange_interpolation(points: List[Tuple[float, float]]) -> \"function\":\n",
        "    x_coords, y_coords = zip(*points)\n",
        "    def interpolation_function(x):\n",
        "        total = 0\n",
        "        n = len(points)\n",
        "        for i in range(n):\n",
        "            x_i, y_i = points[i]\n",
        "            def l(i, n, x_coords):\n",
        "                numerator = 1\n",
        "                denominator = 1\n",
        "                for j in range(n):\n",
        "                    if i == j:\n",
        "                        continue\n",
        "                    x_j = x_coords[j]\n",
        "                    numerator *= (x - x_j)\n",
        "                    denominator *= (x_i - x_j)\n",
        "                return numerator / denominator\n",
        "            total += y_i * l(i, n, x_coords)\n",
        "        return total\n",
        "    return interpolation_function\n",
        "\n",
        "\n",
        "points = list(zip(x_center[0:37], y_center[0:37]))\n",
        "interpolation_function = lagrange_interpolation(points)\n"
      ],
      "metadata": {
        "id": "sohDrnyKjGmf"
      },
      "execution_count": 21,
      "outputs": []
    },
    {
      "cell_type": "code",
      "source": [
        "x = 1020\n",
        "y = interpolation_function(x)\n",
        "print(y)\n",
        "print(interpolation_function)"
      ],
      "metadata": {
        "colab": {
          "base_uri": "https://localhost:8080/"
        },
        "id": "WclnHQO7jRau",
        "outputId": "5f61b6c9-9480-4a26-ad85-90a4a04c2b21"
      },
      "execution_count": 23,
      "outputs": [
        {
          "output_type": "stream",
          "name": "stdout",
          "text": [
            "-149439984.45908293\n",
            "<function lagrange_interpolation.<locals>.interpolation_function at 0x7fec1e9699d0>\n"
          ]
        }
      ]
    },
    {
      "cell_type": "code",
      "source": [
        "import matplotlib.pyplot as plt\n",
        "\n",
        "#points = [(1,2), (3,4), (5,6), (7,8)]\n",
        "#interpolation_function = lagrange_interpolation(points)\n",
        "\n",
        "x_values = [i for i in x_center[0:37]]\n",
        "y_values = [interpolation_function(x) for x in x_center[0:37]]\n",
        "\n",
        "plt.plot(x_values, y_values)\n",
        "plt.scatter(*zip(*points))\n",
        "plt.xlabel('x')\n",
        "plt.ylabel('y')\n",
        "plt.xlim(0, 1080) # set x-axis limits to (0, 1080)\n",
        "plt.ylim(0, 1920) # set y-axis limits to (0, 1920)\n",
        "plt.title('Interpolation function')\n",
        "\n",
        "ax = plt.gca()\n",
        "ax.invert_yaxis()\n",
        "\n",
        "plt.show()\n"
      ],
      "metadata": {
        "colab": {
          "base_uri": "https://localhost:8080/",
          "height": 295
        },
        "id": "3hVYJXwtj_yv",
        "outputId": "2978445a-9355-4d36-fcc7-d6d06f769acd"
      },
      "execution_count": 25,
      "outputs": [
        {
          "output_type": "display_data",
          "data": {
            "text/plain": [
              "<Figure size 432x288 with 1 Axes>"
            ],
            "image/png": "[encoded data removed]"
          },
          "metadata": {
            "needs_background": "light"
          }
        }
      ]
    },
    {
      "cell_type": "code",
      "source": [
        "import numpy as np\n",
        "derivative = np.gradient(y_values)\n",
        "derivates = []\n",
        "for i in range(len(x_values)):\n",
        "        print(abs(derivative[i]))\n",
        "        derivates.append(abs(derivative[i])) # threshold is value you set, to define how big the change should be\n",
        "        x_change = x_values[i]\n",
        "        y_change = y_values[i]\n",
        "        #print(\"Change point at x: {}, y: {}\".format(x_change, y_change))\n",
        "print(derivates)"
      ],
      "metadata": {
        "colab": {
          "base_uri": "https://localhost:8080/"
        },
        "id": "rsDvZ4_6oWrl",
        "outputId": "92f4c8f7-b41a-4682-a4ea-d9bcd06aefec"
      },
      "execution_count": 28,
      "outputs": [
        {
          "output_type": "stream",
          "name": "stdout",
          "text": [
            "17.77782440185547\n",
            "16.444473266601562\n",
            "9.777774810791016\n",
            "10.222206115722656\n",
            "5.777778625488281\n",
            "0.4444313049316406\n",
            "2.2222137451171875\n",
            "6.222209930419922\n",
            "11.555557250976562\n",
            "11.111125946044922\n",
            "5.333347320556641\n",
            "0.4444313049316406\n",
            "2.2222137451171875\n",
            "5.333347320556641\n",
            "0.4444313049316406\n",
            "17.777767181396484\n",
            "4.444427490234375\n",
            "4.888858795166016\n",
            "3.9999961853027344\n",
            "7.1111297607421875\n",
            "1.3333511352539062\n",
            "0.4444313049316406\n",
            "3.1110763549804688\n",
            "0.4444313049316406\n",
            "5.777778625488281\n",
            "4.888916015625\n",
            "0.444488525390625\n",
            "9.777774810791016\n",
            "3.5555648803710938\n",
            "3.5555076599121094\n",
            "1.3332939147949219\n",
            "1.7777252197265625\n",
            "1.3333511352539062\n",
            "4.888916015625\n",
            "3.5555648803710938\n",
            "0.8888626098632812\n",
            "2.6665878295898438\n",
            "[17.77782440185547, 16.444473266601562, 9.777774810791016, 10.222206115722656, 5.777778625488281, 0.4444313049316406, 2.2222137451171875, 6.222209930419922, 11.555557250976562, 11.111125946044922, 5.333347320556641, 0.4444313049316406, 2.2222137451171875, 5.333347320556641, 0.4444313049316406, 17.777767181396484, 4.444427490234375, 4.888858795166016, 3.9999961853027344, 7.1111297607421875, 1.3333511352539062, 0.4444313049316406, 3.1110763549804688, 0.4444313049316406, 5.777778625488281, 4.888916015625, 0.444488525390625, 9.777774810791016, 3.5555648803710938, 3.5555076599121094, 1.3332939147949219, 1.7777252197265625, 1.3333511352539062, 4.888916015625, 3.5555648803710938, 0.8888626098632812, 2.6665878295898438]\n"
          ]
        }
      ]
    },
    {
      "cell_type": "code",
      "source": [
        "values = [1, 2, 3, 4, 5, 6, 7, 8, 9, 10]\n",
        "average_values = []\n",
        "\n",
        "for i in range(len(derivates) - 5):\n",
        "    window = derivates[i:i+5]\n",
        "    average = sum(window) / len(window)\n",
        "    average_values.append(average)\n",
        "\n",
        "print(average_values)\n",
        "print(len(average_values))\n"
      ],
      "metadata": {
        "colab": {
          "base_uri": "https://localhost:8080/"
        },
        "id": "4IPYkwkYpFoM",
        "outputId": "b28f7b3c-de91-4c09-ee6f-d6761857250a"
      },
      "execution_count": 30,
      "outputs": [
        {
          "output_type": "stream",
          "name": "stdout",
          "text": [
            "[12.000011444091797, 8.533332824707031, 5.688880920410156, 4.9777679443359375, 5.244438171386719, 6.311107635498047, 7.288890838623047, 6.9333343505859375, 6.133335113525391, 4.888893127441406, 2.75555419921875, 5.244438171386719, 6.044437408447266, 6.577766418457031, 6.31109619140625, 7.644435882568359, 4.355552673339844, 3.555553436279297, 3.1999969482421875, 2.4888839721679688, 2.2222137451171875, 2.9333267211914062, 2.933338165283203, 4.2666778564453125, 4.888904571533203, 4.444450378417969, 3.733325958251953, 3.9999732971191406, 2.3110885620117188, 2.5777587890625, 2.577770233154297, 2.4888839721679688]\n",
            "32\n"
          ]
        }
      ]
    }
  ]
}